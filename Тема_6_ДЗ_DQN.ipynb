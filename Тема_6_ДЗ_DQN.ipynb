{
 "cells": [
  {
   "cell_type": "markdown",
   "metadata": {},
   "source": [
    "# CartPole with DQN algorithm + TargetQ + ReplayBuffer\n",
    "\n",
    "Этот пример демонстрирует применение алгоритма DQN для задачи обучения агента на среде CartPole-v1 из пакета Gymnasium на базе PyTorch.\n",
    "\n",
    "Original link: https://pytorch.org/tutorials/intermediate/reinforcement_q_learning.html#dqn-algorithm"
   ]
  },
  {
   "cell_type": "markdown",
   "metadata": {
    "ExecuteTime": {
     "end_time": "2023-08-16T09:28:13.323718Z",
     "start_time": "2023-08-16T09:28:13.317541Z"
    }
   },
   "source": [
    "## Imports"
   ]
  },
  {
   "cell_type": "code",
   "execution_count": null,
   "metadata": {},
   "outputs": [],
   "source": [
    "# pip install torch==2.2.2 torchvision==0.17.2 torchaudio==2.2.2 --index-url https://download.pytorch.org/whl/cu121\n",
    "# pip install swig\n",
    "# pip install gymnasium[box2d]"
   ]
  },
  {
   "cell_type": "code",
   "execution_count": 1,
   "metadata": {
    "ExecuteTime": {
     "end_time": "2023-08-16T19:09:46.329318Z",
     "start_time": "2023-08-16T19:09:46.326314Z"
    }
   },
   "outputs": [],
   "source": [
    "import gymnasium as gym\n",
    "import math\n",
    "import random\n",
    "import numpy as np\n",
    "import pylab\n",
    "import matplotlib\n",
    "import matplotlib.pyplot as plt\n",
    "from collections import namedtuple, deque\n",
    "from itertools import count\n",
    "\n",
    "from tqdm import tqdm\n",
    "\n"
   ]
  },
  {
   "cell_type": "code",
   "execution_count": 28,
   "metadata": {},
   "outputs": [
    {
     "data": {
      "text/plain": [
       "device(type='cuda')"
      ]
     },
     "execution_count": 28,
     "metadata": {},
     "output_type": "execute_result"
    }
   ],
   "source": [
    "\n",
    "import torch\n",
    "import torch.nn as nn\n",
    "import torch.optim as optim\n",
    "import torch.nn.functional as F\n",
    "\n",
    "device = torch.device(\"cuda\" if torch.cuda.is_available() else \"cpu\")\n",
    "#device = torch.device('cpu')\n",
    "device"
   ]
  },
  {
   "cell_type": "code",
   "execution_count": 3,
   "metadata": {},
   "outputs": [
    {
     "data": {
      "text/plain": [
       "True"
      ]
     },
     "execution_count": 3,
     "metadata": {},
     "output_type": "execute_result"
    }
   ],
   "source": [
    "torch.cuda.is_available()"
   ]
  },
  {
   "cell_type": "code",
   "execution_count": null,
   "metadata": {},
   "outputs": [],
   "source": [
    "torch.utils.data.DataLoader(dataset,\n",
    "                            batch_size=64,\n",
    "                            sampler=SubsetRandomSampler(train_idx), \n",
    "                            num_workers=4, \n",
    "                            worker_init_fn=init_worker)"
   ]
  },
  {
   "cell_type": "code",
   "execution_count": 4,
   "metadata": {},
   "outputs": [
    {
     "data": {
      "text/plain": [
       "tensor([0.], device='cuda:0')"
      ]
     },
     "execution_count": 4,
     "metadata": {},
     "output_type": "execute_result"
    }
   ],
   "source": [
    "torch.zeros(1).cuda()"
   ]
  },
  {
   "cell_type": "code",
   "execution_count": 5,
   "metadata": {
    "ExecuteTime": {
     "end_time": "2023-08-16T15:47:47.679542Z",
     "start_time": "2023-08-16T15:47:47.672382Z"
    }
   },
   "outputs": [
    {
     "data": {
      "text/plain": [
       "'2.2.2+cu121'"
      ]
     },
     "execution_count": 5,
     "metadata": {},
     "output_type": "execute_result"
    }
   ],
   "source": [
    "torch.__version__"
   ]
  },
  {
   "cell_type": "code",
   "execution_count": 6,
   "metadata": {},
   "outputs": [
    {
     "data": {
      "text/plain": [
       "'0.29.1'"
      ]
     },
     "execution_count": 6,
     "metadata": {},
     "output_type": "execute_result"
    }
   ],
   "source": [
    "gym.__version__"
   ]
  },
  {
   "cell_type": "code",
   "execution_count": 7,
   "metadata": {},
   "outputs": [],
   "source": [
    "import tensorflow as tf"
   ]
  },
  {
   "cell_type": "code",
   "execution_count": 8,
   "metadata": {},
   "outputs": [
    {
     "data": {
      "text/plain": [
       "[(PhysicalDevice(name='/physical_device:GPU:0', device_type='GPU'),\n",
       "  {'device_name': 'DML'}),\n",
       " (PhysicalDevice(name='/physical_device:GPU:1', device_type='GPU'),\n",
       "  {'device_name': 'DML'})]"
      ]
     },
     "execution_count": 8,
     "metadata": {},
     "output_type": "execute_result"
    }
   ],
   "source": [
    "def get_available_gpus():\n",
    "        physical_gpus = tf.config.list_physical_devices(device_type=\"GPU\")\n",
    "        return [(x, tf.config.experimental.get_device_details(x)) for x in physical_gpus]\n",
    "    \n",
    "get_available_gpus()"
   ]
  },
  {
   "cell_type": "code",
   "execution_count": 9,
   "metadata": {},
   "outputs": [
    {
     "name": "stdout",
     "output_type": "stream",
     "text": [
      "Num GPUs Available:  2\n"
     ]
    }
   ],
   "source": [
    "print(\"Num GPUs Available: \", len(tf.config.list_physical_devices('GPU')))\n",
    "tf.debugging.set_log_device_placement(True)"
   ]
  },
  {
   "cell_type": "code",
   "execution_count": 10,
   "metadata": {
    "ExecuteTime": {
     "end_time": "2023-08-16T15:47:47.679861Z",
     "start_time": "2023-08-16T15:47:47.679312Z"
    }
   },
   "outputs": [
    {
     "name": "stdout",
     "output_type": "stream",
     "text": [
      "Executing op _EagerConst in device /job:localhost/replica:0/task:0/device:GPU:0\n",
      "Executing op _EagerConst in device /job:localhost/replica:0/task:0/device:GPU:0\n",
      "Executing op _EagerConst in device /job:localhost/replica:0/task:0/device:GPU:0\n",
      "Executing op RandomStandardNormal in device /job:localhost/replica:0/task:0/device:GPU:0\n",
      "Executing op Mul in device /job:localhost/replica:0/task:0/device:GPU:0\n",
      "Executing op AddV2 in device /job:localhost/replica:0/task:0/device:GPU:0\n",
      "Executing op Relu in device /job:localhost/replica:0/task:0/device:GPU:0\n"
     ]
    }
   ],
   "source": [
    "a = tf.random.normal(shape=[15000], dtype=tf.float32)  # Runs on CPU\n",
    "b =  tf.nn.relu(a)  # Runs on APU"
   ]
  },
  {
   "cell_type": "markdown",
   "metadata": {},
   "source": [
    "Когда агент наблюдает за текущим состоянием среды и выбирает действие, среда переходит в новое состояние, а также возвращает вознаграждение, указывающее на последствия этого действия. В данной задаче награда равна +1 за каждый инкрементный временной шаг, и среда завершается, если шест падает слишком далеко или тележка удаляется от центра более чем на 2,4 единицы. Это означает, что сценарии с лучшими результатами будут выполняться дольше, накапливая большую отдачу.\n",
    "\n",
    "Задача CartPole построена таким образом, что входными данными для агента являются 4 реальных значения, представляющие состояние среды (положение, скорость и т.д.). Мы берем эти 4 входных сигнала без какого-либо масштабирования и пропускаем их через небольшую полносвязную сеть с 2 выходами, по одному на каждое действие. Сеть обучается предсказывать ожидаемое значение для каждого действия с учетом входного состояния. Затем выбирается действие с наибольшим ожидаемым значением.\n",
    "\n",
    "### Replay Memory\n",
    "\n",
    "Для обучения DQN мы будем использовать Replay Memory. В ней хранятся переходы, которые наблюдал агент, что позволяет нам использовать эти данные в дальнейшем. Переходы извлекаются путем случайной выборки, что позволяет избежать корреляции между наблюдениями. Это значительно стабилизирует и улучшает процедуру обучения DQN.\n",
    "\n",
    "Для этого нам понадобятся два класса:\n",
    "\n",
    "`Transition` - именованный кортеж, представляющий один переход в нашем окружении. По сути, он сопоставляет пары (состояние, действие) с их результатом (следующее_состояние, награда), причем состояние - это изображение разницы на экране.\n",
    "\n",
    "`ReplayMemory` - циклический буфер ограниченного размера, в котором хранятся переходы. В нем также реализован метод `.sample()` для выбора случайной выборки переходов для обучения."
   ]
  },
  {
   "cell_type": "code",
   "execution_count": 4,
   "metadata": {
    "ExecuteTime": {
     "end_time": "2023-08-16T19:10:57.755815Z",
     "start_time": "2023-08-16T19:10:57.751055Z"
    }
   },
   "outputs": [],
   "source": [
    "Transition = namedtuple('Transition', ('state', 'action', 'next_state', 'reward'))"
   ]
  },
  {
   "cell_type": "code",
   "execution_count": 5,
   "metadata": {
    "ExecuteTime": {
     "end_time": "2023-08-16T19:10:58.367208Z",
     "start_time": "2023-08-16T19:10:58.364842Z"
    }
   },
   "outputs": [],
   "source": [
    "class ReplayMemory(object):\n",
    "\n",
    "    def __init__(self, capacity):\n",
    "        self.memory = deque([], maxlen=capacity)\n",
    "\n",
    "    def push(self, *args):\n",
    "        \"\"\"Save a transition\"\"\"\n",
    "        self.memory.append(Transition(*args))\n",
    "\n",
    "    def sample(self, batch_size):\n",
    "        return random.sample(self.memory, batch_size)\n",
    "\n",
    "    def __len__(self):\n",
    "        return len(self.memory)"
   ]
  },
  {
   "cell_type": "markdown",
   "metadata": {},
   "source": [
    "Наша модель будет представлять собой нейронную сеть, которая учитывает разницу между текущим и предыдущим экранами. Она имеет два выхода, представляющих собой $Q(s,left)$ и $Q(s,right)$ (где $s$ - вход сети). По сути, сеть пытается предсказать ожидаемую прибыль от каждого действия с учетом текущих входных данных."
   ]
  },
  {
   "cell_type": "code",
   "execution_count": 6,
   "metadata": {
    "ExecuteTime": {
     "end_time": "2023-08-16T19:11:01.401182Z",
     "start_time": "2023-08-16T19:11:01.399161Z"
    }
   },
   "outputs": [],
   "source": [
    "class DQN(nn.Module):\n",
    "\n",
    "    def __init__(self, n_observations, n_actions):\n",
    "        super(DQN, self).__init__()\n",
    "        self.layer1 = nn.Linear(n_observations, 128)\n",
    "        self.layer2 = nn.Linear(128, 128)\n",
    "        self.layer3 = nn.Linear(128, n_actions)\n",
    "\n",
    "    # Called with either one element to determine next action, or a batch\n",
    "    # during optimization. Returns tensor([[left0exp,right0exp]...]).\n",
    "    def forward(self, x):\n",
    "        x = F.relu(self.layer1(x))\n",
    "        x = F.relu(self.layer2(x))\n",
    "        return self.layer3(x)"
   ]
  },
  {
   "cell_type": "markdown",
   "metadata": {},
   "source": [
    "\n",
    "## Training\n",
    "\n",
    "### Hyperparameters and utilities\n",
    "\n",
    "Далее мы инициализируем модель и ее оптимизатор, а также определяем некоторые утилиты:\n",
    "\n",
    "`select_action` - выбор действия в соответствии с эпсилон-жадной политикой. Проще говоря, иногда мы будем использовать нашу модель для выбора действия, а иногда - просто равномерную выборку. Вероятность выбора случайного действия будет начинаться с `EPS_START` и экспоненциально убывать по направлению к `EPS_END`. `EPS_DECAY` управляет скоростью затухания.\n",
    "\n",
    "`plot_durations` - помощник для построения графика продолжительности эпизодов, а также среднего значения за последние 100 эпизодов (показатель, используемый в оценках). График будет находиться под ячейкой, содержащей основной цикл обучения, и обновляться после каждого эпизода. По умолчанию продолжительность эпизода в CartPole 500 действий. Если обученный агент сможет удержать шест вертикально на протяжении 500 эпизодов - можно считать, что он хорошо обучился."
   ]
  },
  {
   "cell_type": "code",
   "execution_count": 39,
   "metadata": {
    "ExecuteTime": {
     "end_time": "2023-08-16T19:11:04.810594Z",
     "start_time": "2023-08-16T19:11:04.803012Z"
    }
   },
   "outputs": [],
   "source": [
    "# BATCH_SIZE - количество эпизодов, отобранных из буфера воспроизведения\n",
    "# GAMMA - коэффициент дисконтирования\n",
    "# EPS_START - начальное значение эпсилон\n",
    "# EPS_END - конечное значение эпсилон\n",
    "# EPS_DECAY - скорость экспоненциального спада эпсилон, чем больше - тем медленнее падение\n",
    "# TAU - скорость обновления целевой сети\n",
    "# LR - скорость обучения оптимизатора ``AdamW``.\n",
    "\n",
    "BATCH_SIZE = 128\n",
    "GAMMA = 0.99\n",
    "EPS_START = 0.9\n",
    "EPS_END = 0.05\n",
    "EPS_DECAY = 1000\n",
    "TAU = 0.005\n",
    "LR = 1e-4\n",
    "FULL_MEMORY_LENGTH = 10000\n",
    "\n",
    "# Среда\n",
    "#env = gym.make(\"CartPole-v1\")\n",
    "env = gym.make(\n",
    "    \"LunarLander-v2\",\n",
    "    continuous = False,\n",
    "    gravity = -10.0,\n",
    "    enable_wind = False,\n",
    "    wind_power = 15.0,\n",
    "    turbulence_power = 1.5,\n",
    ")\n",
    "\n",
    "# Получить число действий\n",
    "n_actions = env.action_space.n\n",
    "# Получить число степеней свободы состояний\n",
    "state, info = env.reset()\n",
    "n_observations = len(state)\n",
    "\n",
    "# Инициилизировать сети: целевую и политики\n",
    "policy_net = DQN(n_observations, n_actions).to(device)\n",
    "target_net = DQN(n_observations, n_actions).to(device)\n",
    "\n",
    "# Подгрузить в целевую сеть коэффициенты из сети политики\n",
    "target_net.load_state_dict(policy_net.state_dict())\n",
    "\n",
    "# Задать оптимайзер\n",
    "optimizer = optim.AdamW(policy_net.parameters(), lr=LR, amsgrad=True)\n",
    "\n",
    "# Инициализировать Replay Memory buffer\n",
    "memory = ReplayMemory(FULL_MEMORY_LENGTH)\n",
    "\n",
    "\n",
    "steps_done = 0\n",
    "\n",
    "#     массив длительности эпизода - пойдет в отчет о том, сколько продержался агент\n",
    "episode_durations = []"
   ]
  },
  {
   "cell_type": "code",
   "execution_count": 31,
   "metadata": {},
   "outputs": [],
   "source": [
    "# еpsilon-жадная стратегия выбора действия\n",
    "def select_action(state):\n",
    "    global steps_done  # глобальный шаги для убывания epsilon\n",
    "#     случайное значение для определения какой шаг будем делать жадный или случайный\n",
    "    sample = random.random()\n",
    "    \n",
    "#     установка порога принятия решения - уровня epsilon\n",
    "    eps_threshold = EPS_END + (EPS_START - EPS_END) * \\\n",
    "        math.exp(-1. * steps_done / EPS_DECAY)\n",
    "    \n",
    "#     увеличиваем счетчик шагов\n",
    "    steps_done += 1\n",
    "    \n",
    "#     если случайный порог больше epsilon-порога\n",
    "    if sample > eps_threshold:\n",
    "        with torch.no_grad():\n",
    "            # t.max(1) вернет наибольшее значение столбца в каждой строке.\n",
    "            # Второй столбец в результате max - это индекс того места, \n",
    "            # где был найден максимальный элемент, \n",
    "            # поэтому мы выбираем действие с наибольшим ожидаемым вознаграждением.\n",
    "            return policy_net(state).max(1)[1].view(1, 1)\n",
    "    else:\n",
    "        # Иначы выбираем случайное дайствие\n",
    "        return torch.tensor([[env.action_space.sample()]], device=device, dtype=torch.long)\n",
    "        #return torch.tensor([[env.action_space.sample()]], device=torch.device('cpu'), dtype=torch.long)\n",
    "    "
   ]
  },
  {
   "cell_type": "markdown",
   "metadata": {},
   "source": [
    "## Training loop\n",
    "\n",
    "Обучение модели.\n",
    "\n",
    "Функция `optimize_model` выполняет один шаг оптимизации. Сначала она производит выборку, конкатенирует все тензоры в один, вычисляет\n",
    "$Q(s_t, a_t)$ и $V(s_{t+1}) = max_aQ(s_{t+1},a)$ и объединяет их в Loss. По определению мы задаем $V(s)=0$, если $s$ является терминальным состоянием. Для повышения устойчивости мы также используем целевую сеть для вычисления $V(s_{t+1})$. Целевая сеть обновляется на каждом шаге с помощью __мягкого обновления__, управляемого гиперпараметром `TAU`.\n",
    "\n",
    "### Мягкое обновление целевой сети\n",
    "\n"
   ]
  },
  {
   "cell_type": "code",
   "execution_count": 9,
   "metadata": {
    "ExecuteTime": {
     "end_time": "2023-08-16T19:11:10.229685Z",
     "start_time": "2023-08-16T19:11:10.205614Z"
    }
   },
   "outputs": [],
   "source": [
    "def optimize_model(batch_size: int):\n",
    "    if len(memory) < batch_size:\n",
    "        return\n",
    "    \n",
    "    # Получить из памяти батч\n",
    "    transitions = memory.sample(batch_size)\n",
    "    # Преобразовать его в namedtuple\n",
    "    batch = Transition(*zip(*transitions))\n",
    "\n",
    "    # Вычислить маску нефинальных состояний и соединить элементы батча\n",
    "    # (финальным состоянием должно быть то, после которого моделирование закончилось)\n",
    "\n",
    "    non_final_mask = torch.tensor(tuple(map(lambda s: s is not None,\n",
    "                                        batch.next_state)), device=device, dtype=torch.bool)\n",
    "    \n",
    "    non_final_next_states = torch.cat([s for s in batch.next_state\n",
    "                                                if s is not None])\n",
    "    \n",
    "    # Собираем батчи для состояний, действий и наград\n",
    "    state_batch = torch.cat(batch.state)\n",
    "    action_batch = torch.cat(batch.action)\n",
    "    reward_batch = torch.cat(batch.reward)\n",
    "\n",
    "    # Вычислить Q(s_t, a) - модель вычисляет Q(s_t), \n",
    "    # затем мы выбираем столбцы предпринятых действий. \n",
    "    # Это те действия, которые были бы предприняты для каждого состояния партии в соответствии с policy_net\n",
    "    state_action_values = policy_net(state_batch).gather(1, action_batch)\n",
    "\n",
    "    # Вычислить V(s_{t+1}) для всех следующих состояний.\n",
    "    # Ожидаемые значения действий для не_финальных_следующих_состояний вычисляются \n",
    "    # на основе \"старшей\" целевой_сети; выбирается их наилучшее вознаграждение с помощью max(1)[0].\n",
    "    # Это объединяется по маске, так что мы будем иметь либо ожидаемое значение состояния, \n",
    "    # либо 0, если состояние было финальным.\n",
    "    next_state_values = torch.zeros(batch_size, device=device)\n",
    "    with torch.no_grad():\n",
    "        next_state_values[non_final_mask] = target_net(non_final_next_states).max(1)[0]\n",
    "    # Вычисляем ожидаемые Q значения\n",
    "    expected_state_action_values = (next_state_values * GAMMA) + reward_batch\n",
    "\n",
    "    # Объединяем все в общий лосс\n",
    "    criterion = nn.SmoothL1Loss()\n",
    "    loss = criterion(state_action_values, expected_state_action_values.unsqueeze(1))\n",
    "\n",
    "    # Готовим градиент\n",
    "    optimizer.zero_grad()\n",
    "    loss.backward()\n",
    "    # Обрезаем значения градиента - проблемма исчезающего/взрывающего градиента\n",
    "    torch.nn.utils.clip_grad_value_(policy_net.parameters(), 100)\n",
    "    \n",
    "    optimizer.step()"
   ]
  },
  {
   "cell_type": "markdown",
   "metadata": {},
   "source": [
    "Ниже представлен основной цикл обучения. \n",
    "\n",
    "В начале мы сбрасываем окружение и получаем тензор начального `state`. Затем мы выбираем действие, выполняем его, наблюдаем следующее состояние и вознаграждение (всегда 1) и один раз оптимизируем нашу модель. Когда эпизод заканчивается (модель не работает), мы перезапускаем цикл.\n",
    "\n",
    "\n",
    "`num_episodes` устанавливается равным 1500, если доступен графический процессор, в противном случае планируется 500 эпизодов, чтобы обучение не занимало слишком много времени. 500 эпизодов вполне недостаточно для того, чтобы наблюдать хороший результат на CartPole на алгоритме Double DQN. \n",
    "\n",
    "Обучение RL-агентов может быть случайным процессом, поэтому перезапуск обучения может дать лучшие результаты, если сходимость не наблюдается."
   ]
  },
  {
   "cell_type": "code",
   "execution_count": 40,
   "metadata": {
    "pycharm": {
     "is_executing": true
    }
   },
   "outputs": [
    {
     "name": "stderr",
     "output_type": "stream",
     "text": [
      "100%|██████████| 1000/1000 [54:09<00:00,  3.25s/it] "
     ]
    },
    {
     "name": "stdout",
     "output_type": "stream",
     "text": [
      "Complete\n"
     ]
    },
    {
     "name": "stderr",
     "output_type": "stream",
     "text": [
      "\n"
     ]
    }
   ],
   "source": [
    "if torch.cuda.is_available():\n",
    "    num_episodes = 1000\n",
    "else:\n",
    "    num_episodes = 1000\n",
    "total_reward = []\n",
    "\n",
    "for i_episode in tqdm(range(num_episodes)):\n",
    "    episode_reward = 0\n",
    "    # Для каждого эпизода инициализируем начальное состояние\n",
    "    state, info = env.reset()\n",
    "    state = torch.tensor(state, dtype=torch.float32, device=device).unsqueeze(0)\n",
    "    \n",
    "    # выполняем действия пока не получим флаг done\n",
    "    # t - считает сколько шагов успели сделать пока шест не упал\n",
    "    for t in count():\n",
    "        # выбираем действие [0, 1]\n",
    "        action = select_action(state)\n",
    "        # Делаем шаг\n",
    "        observation, reward, terminated, truncated, _ = env.step(action.item())\n",
    "        episode_reward += reward\n",
    "\n",
    "        # Преобразуем в тензор\n",
    "        reward = torch.tensor([reward], device=device)\n",
    "        \n",
    "        # Объединяем done по двум конечным состояниям\n",
    "        done = terminated or truncated\n",
    "        \n",
    "        # присваиваем следующее состояние\n",
    "        if terminated:\n",
    "            next_state = None\n",
    "        else:\n",
    "            next_state = torch.tensor(observation, dtype=torch.float32, device=device).unsqueeze(0)\n",
    "\n",
    "        # отправляем в память\n",
    "        memory.push(state, action, next_state, reward)\n",
    "\n",
    "        # переходим на следующее состояние\n",
    "        state = next_state\n",
    "\n",
    "        # запускаем обучение сети\n",
    "        optimize_model(batch_size=128)\n",
    "\n",
    "        # делаем \"мягкое\" обновление весов\n",
    "        # θ′ ← τ θ + (1 −τ )θ′\n",
    "        target_net_state_dict = target_net.state_dict()\n",
    "        policy_net_state_dict = policy_net.state_dict()\n",
    "        \n",
    "        for key in policy_net_state_dict:\n",
    "            target_net_state_dict[key] = policy_net_state_dict[key]*TAU + target_net_state_dict[key]*(1-TAU)\n",
    "        target_net.load_state_dict(target_net_state_dict)\n",
    "        \n",
    "        # Если получили terminated or truncated завершаем эпизод обучения\n",
    "        if done:\n",
    "            # добавляем в массив продолжительность эпизода\n",
    "            episode_durations.append(t + 1)\n",
    "            total_reward.append(episode_reward)\n",
    "            break\n",
    "\n",
    "print('Complete')\n"
   ]
  },
  {
   "cell_type": "code",
   "execution_count": 41,
   "metadata": {},
   "outputs": [
    {
     "data": {
      "image/png": "[encoded data removed]",
      "text/plain": [
       "<Figure size 640x480 with 1 Axes>"
      ]
     },
     "metadata": {},
     "output_type": "display_data"
    }
   ],
   "source": [
    "# Вычисление скользящего среднего\n",
    "window_size = 20\n",
    "moving_avg = np.convolve(total_reward, np.ones(window_size)/window_size, mode='valid')\n",
    "plt.plot(moving_avg)\n",
    "plt.title('DQN + ReplayBuffer')\n",
    "plt.xlabel('Episode')\n",
    "plt.ylabel('Reward')\n",
    "plt.show()"
   ]
  },
  {
   "cell_type": "markdown",
   "metadata": {},
   "source": [
    "# Выводы\n",
    "\n",
    "Расчёты делал на GPU. Утилизация GPU была на уровне 20%. Поэтому я пробовал поиграть с гиперпараметрами модели:\n",
    "\n",
    "    *   Увеличивал batch_size до 256, 512, 1024;\n",
    "    *   Перенести Replay Buffer в память GPU;\n",
    "    *   Меня количество и размер слоёв нейросети.\n",
    "\n",
    "Результаты:\n",
    "\n",
    "    *   В некоторых случаях удалось довести утилизацию GPU до 28-30% c неочевидными последствиями для скорости вычислений;\n",
    "    *   Увеличение размера сети приводило к падению качества обучения после 400-500 итераций.\n"
   ]
  }
 ],
 "metadata": {
  "kernelspec": {
   "display_name": "Python 3 (ipykernel)",
   "language": "python",
   "name": "python3"
  },
  "language_info": {
   "codemirror_mode": {
    "name": "ipython",
    "version": 3
   },
   "file_extension": ".py",
   "mimetype": "text/x-python",
   "name": "python",
   "nbconvert_exporter": "python",
   "pygments_lexer": "ipython3",
   "version": "3.10.4"
  },
  "toc": {
   "base_numbering": 1,
   "nav_menu": {},
   "number_sections": true,
   "sideBar": true,
   "skip_h1_title": false,
   "title_cell": "Table of Contents",
   "title_sidebar": "Contents",
   "toc_cell": false,
   "toc_position": {},
   "toc_section_display": true,
   "toc_window_display": false
  }
 },
 "nbformat": 4,
 "nbformat_minor": 4
}
